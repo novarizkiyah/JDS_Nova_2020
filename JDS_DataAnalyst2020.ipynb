{
 "cells": [
  {
   "cell_type": "markdown",
   "metadata": {},
   "source": [
    "# UNDERSTANDING DATA"
   ]
  },
  {
   "cell_type": "code",
   "execution_count": 655,
   "metadata": {},
   "outputs": [],
   "source": [
    "import numpy as np\n",
    "import pandas as pd\n",
    "import matplotlib.pyplot as plt\n",
    "import matplotlib.image as mpimg\n",
    "%matplotlib inline\n",
    "import seaborn as sns\n",
    "import folium\n",
    "import folium.plugins\n",
    "from sklearn import preprocessing\n",
    "from statistics import mode\n",
    "import statsmodels.api as sm\n",
    "import matplotlib.pyplot as plt \n",
    "data = pd.read_excel(\"C:/Users/LENOVO/Data_Nilai_Pegawai.xlsx\") "
   ]
  },
  {
   "cell_type": "code",
   "execution_count": 656,
   "metadata": {},
   "outputs": [
    {
     "data": {
      "text/html": [
       "<div>\n",
       "<style scoped>\n",
       "    .dataframe tbody tr th:only-of-type {\n",
       "        vertical-align: middle;\n",
       "    }\n",
       "\n",
       "    .dataframe tbody tr th {\n",
       "        vertical-align: top;\n",
       "    }\n",
       "\n",
       "    .dataframe thead th {\n",
       "        text-align: right;\n",
       "    }\n",
       "</style>\n",
       "<table border=\"1\" class=\"dataframe\">\n",
       "  <thead>\n",
       "    <tr style=\"text-align: right;\">\n",
       "      <th></th>\n",
       "      <th>ID PERSON</th>\n",
       "      <th>Tingkat Pendidikan Akhir</th>\n",
       "      <th>Usia</th>\n",
       "      <th>Satuan Kerja</th>\n",
       "      <th>Bulan</th>\n",
       "      <th>Nilai</th>\n",
       "    </tr>\n",
       "  </thead>\n",
       "  <tbody>\n",
       "    <tr>\n",
       "      <th>0</th>\n",
       "      <td>1001</td>\n",
       "      <td>S3</td>\n",
       "      <td>61</td>\n",
       "      <td>DINAS B</td>\n",
       "      <td>Juli</td>\n",
       "      <td>7.88436</td>\n",
       "    </tr>\n",
       "    <tr>\n",
       "      <th>1</th>\n",
       "      <td>1002</td>\n",
       "      <td>SLTA</td>\n",
       "      <td>59</td>\n",
       "      <td>DINAS A</td>\n",
       "      <td>Juli</td>\n",
       "      <td>6.95183</td>\n",
       "    </tr>\n",
       "    <tr>\n",
       "      <th>2</th>\n",
       "      <td>1003</td>\n",
       "      <td>S2</td>\n",
       "      <td>57</td>\n",
       "      <td>BADAN D</td>\n",
       "      <td>Juli</td>\n",
       "      <td>8.18452</td>\n",
       "    </tr>\n",
       "    <tr>\n",
       "      <th>3</th>\n",
       "      <td>1004</td>\n",
       "      <td>SD</td>\n",
       "      <td>56</td>\n",
       "      <td>DINAS B</td>\n",
       "      <td>Juli</td>\n",
       "      <td>6.55612</td>\n",
       "    </tr>\n",
       "    <tr>\n",
       "      <th>4</th>\n",
       "      <td>1005</td>\n",
       "      <td>D3</td>\n",
       "      <td>54</td>\n",
       "      <td>DINAS B</td>\n",
       "      <td>Juli</td>\n",
       "      <td>6.34694</td>\n",
       "    </tr>\n",
       "  </tbody>\n",
       "</table>\n",
       "</div>"
      ],
      "text/plain": [
       "   ID PERSON Tingkat Pendidikan Akhir  Usia Satuan Kerja Bulan    Nilai\n",
       "0       1001                       S3    61      DINAS B  Juli  7.88436\n",
       "1       1002                     SLTA    59      DINAS A  Juli  6.95183\n",
       "2       1003                       S2    57      BADAN D  Juli  8.18452\n",
       "3       1004                       SD    56      DINAS B  Juli  6.55612\n",
       "4       1005                       D3    54      DINAS B  Juli  6.34694"
      ]
     },
     "execution_count": 656,
     "metadata": {},
     "output_type": "execute_result"
    }
   ],
   "source": [
    "data.head()"
   ]
  },
  {
   "cell_type": "code",
   "execution_count": 657,
   "metadata": {},
   "outputs": [
    {
     "data": {
      "text/plain": [
       "(30, 6)"
      ]
     },
     "execution_count": 657,
     "metadata": {},
     "output_type": "execute_result"
    }
   ],
   "source": [
    "data.shape"
   ]
  },
  {
   "cell_type": "code",
   "execution_count": 658,
   "metadata": {},
   "outputs": [
    {
     "data": {
      "text/plain": [
       "ID PERSON                     int64\n",
       "Tingkat Pendidikan Akhir     object\n",
       "Usia                          int64\n",
       "Satuan Kerja                 object\n",
       "Bulan                        object\n",
       "Nilai                       float64\n",
       "dtype: object"
      ]
     },
     "execution_count": 658,
     "metadata": {},
     "output_type": "execute_result"
    }
   ],
   "source": [
    "data.dtypes"
   ]
  },
  {
   "cell_type": "code",
   "execution_count": 659,
   "metadata": {
    "scrolled": true
   },
   "outputs": [
    {
     "data": {
      "text/html": [
       "<div>\n",
       "<style scoped>\n",
       "    .dataframe tbody tr th:only-of-type {\n",
       "        vertical-align: middle;\n",
       "    }\n",
       "\n",
       "    .dataframe tbody tr th {\n",
       "        vertical-align: top;\n",
       "    }\n",
       "\n",
       "    .dataframe thead th {\n",
       "        text-align: right;\n",
       "    }\n",
       "</style>\n",
       "<table border=\"1\" class=\"dataframe\">\n",
       "  <thead>\n",
       "    <tr style=\"text-align: right;\">\n",
       "      <th></th>\n",
       "      <th>Total</th>\n",
       "      <th>Percent</th>\n",
       "    </tr>\n",
       "  </thead>\n",
       "  <tbody>\n",
       "    <tr>\n",
       "      <th>Nilai</th>\n",
       "      <td>0</td>\n",
       "      <td>0.0</td>\n",
       "    </tr>\n",
       "    <tr>\n",
       "      <th>Bulan</th>\n",
       "      <td>0</td>\n",
       "      <td>0.0</td>\n",
       "    </tr>\n",
       "    <tr>\n",
       "      <th>Satuan Kerja</th>\n",
       "      <td>0</td>\n",
       "      <td>0.0</td>\n",
       "    </tr>\n",
       "    <tr>\n",
       "      <th>Usia</th>\n",
       "      <td>0</td>\n",
       "      <td>0.0</td>\n",
       "    </tr>\n",
       "    <tr>\n",
       "      <th>Tingkat Pendidikan Akhir</th>\n",
       "      <td>0</td>\n",
       "      <td>0.0</td>\n",
       "    </tr>\n",
       "    <tr>\n",
       "      <th>ID PERSON</th>\n",
       "      <td>0</td>\n",
       "      <td>0.0</td>\n",
       "    </tr>\n",
       "  </tbody>\n",
       "</table>\n",
       "</div>"
      ],
      "text/plain": [
       "                          Total  Percent\n",
       "Nilai                         0      0.0\n",
       "Bulan                         0      0.0\n",
       "Satuan Kerja                  0      0.0\n",
       "Usia                          0      0.0\n",
       "Tingkat Pendidikan Akhir      0      0.0\n",
       "ID PERSON                     0      0.0"
      ]
     },
     "execution_count": 659,
     "metadata": {},
     "output_type": "execute_result"
    }
   ],
   "source": [
    "#untuk mengetahui banyaknya data yang tidak terisi(missing value) pada features dan %nya terhadap total data\n",
    "total = data.isnull().sum().sort_values(ascending=False)\n",
    "percent = ((data.isnull().sum())*100)/data.isnull().count().sort_values(ascending=False)\n",
    "missing_data = pd.concat([total, percent], axis=1, keys=['Total','Percent'], \n",
    "                         sort=False).sort_values('Total', ascending=False)\n",
    "missing_data.head(16)"
   ]
  },
  {
   "cell_type": "code",
   "execution_count": 660,
   "metadata": {},
   "outputs": [
    {
     "data": {
      "text/html": [
       "<div>\n",
       "<style scoped>\n",
       "    .dataframe tbody tr th:only-of-type {\n",
       "        vertical-align: middle;\n",
       "    }\n",
       "\n",
       "    .dataframe tbody tr th {\n",
       "        vertical-align: top;\n",
       "    }\n",
       "\n",
       "    .dataframe thead th {\n",
       "        text-align: right;\n",
       "    }\n",
       "</style>\n",
       "<table border=\"1\" class=\"dataframe\">\n",
       "  <thead>\n",
       "    <tr style=\"text-align: right;\">\n",
       "      <th></th>\n",
       "      <th>ID PERSON</th>\n",
       "      <th>Usia</th>\n",
       "      <th>Nilai</th>\n",
       "    </tr>\n",
       "  </thead>\n",
       "  <tbody>\n",
       "    <tr>\n",
       "      <th>count</th>\n",
       "      <td>30.000000</td>\n",
       "      <td>30.000000</td>\n",
       "      <td>30.000000</td>\n",
       "    </tr>\n",
       "    <tr>\n",
       "      <th>mean</th>\n",
       "      <td>1015.500000</td>\n",
       "      <td>40.233333</td>\n",
       "      <td>7.185791</td>\n",
       "    </tr>\n",
       "    <tr>\n",
       "      <th>std</th>\n",
       "      <td>8.803408</td>\n",
       "      <td>10.753294</td>\n",
       "      <td>0.484566</td>\n",
       "    </tr>\n",
       "    <tr>\n",
       "      <th>min</th>\n",
       "      <td>1001.000000</td>\n",
       "      <td>25.000000</td>\n",
       "      <td>6.346940</td>\n",
       "    </tr>\n",
       "    <tr>\n",
       "      <th>25%</th>\n",
       "      <td>1008.250000</td>\n",
       "      <td>32.500000</td>\n",
       "      <td>6.964457</td>\n",
       "    </tr>\n",
       "    <tr>\n",
       "      <th>50%</th>\n",
       "      <td>1015.500000</td>\n",
       "      <td>41.000000</td>\n",
       "      <td>7.179420</td>\n",
       "    </tr>\n",
       "    <tr>\n",
       "      <th>75%</th>\n",
       "      <td>1022.750000</td>\n",
       "      <td>47.000000</td>\n",
       "      <td>7.452400</td>\n",
       "    </tr>\n",
       "    <tr>\n",
       "      <th>max</th>\n",
       "      <td>1030.000000</td>\n",
       "      <td>61.000000</td>\n",
       "      <td>8.403630</td>\n",
       "    </tr>\n",
       "  </tbody>\n",
       "</table>\n",
       "</div>"
      ],
      "text/plain": [
       "         ID PERSON       Usia      Nilai\n",
       "count    30.000000  30.000000  30.000000\n",
       "mean   1015.500000  40.233333   7.185791\n",
       "std       8.803408  10.753294   0.484566\n",
       "min    1001.000000  25.000000   6.346940\n",
       "25%    1008.250000  32.500000   6.964457\n",
       "50%    1015.500000  41.000000   7.179420\n",
       "75%    1022.750000  47.000000   7.452400\n",
       "max    1030.000000  61.000000   8.403630"
      ]
     },
     "execution_count": 660,
     "metadata": {},
     "output_type": "execute_result"
    }
   ],
   "source": [
    "data.describe()"
   ]
  },
  {
   "cell_type": "markdown",
   "metadata": {},
   "source": [
    "# PREPROCESSING DATA"
   ]
  },
  {
   "cell_type": "code",
   "execution_count": 661,
   "metadata": {},
   "outputs": [
    {
     "data": {
      "text/html": [
       "<div>\n",
       "<style scoped>\n",
       "    .dataframe tbody tr th:only-of-type {\n",
       "        vertical-align: middle;\n",
       "    }\n",
       "\n",
       "    .dataframe tbody tr th {\n",
       "        vertical-align: top;\n",
       "    }\n",
       "\n",
       "    .dataframe thead th {\n",
       "        text-align: right;\n",
       "    }\n",
       "</style>\n",
       "<table border=\"1\" class=\"dataframe\">\n",
       "  <thead>\n",
       "    <tr style=\"text-align: right;\">\n",
       "      <th></th>\n",
       "      <th>ID</th>\n",
       "      <th>TPA</th>\n",
       "      <th>Usia</th>\n",
       "      <th>SK</th>\n",
       "      <th>Bulan</th>\n",
       "      <th>Nilai</th>\n",
       "    </tr>\n",
       "  </thead>\n",
       "  <tbody>\n",
       "    <tr>\n",
       "      <th>0</th>\n",
       "      <td>1001</td>\n",
       "      <td>S3</td>\n",
       "      <td>61</td>\n",
       "      <td>DINAS B</td>\n",
       "      <td>Juli</td>\n",
       "      <td>7.88436</td>\n",
       "    </tr>\n",
       "    <tr>\n",
       "      <th>1</th>\n",
       "      <td>1002</td>\n",
       "      <td>SLTA</td>\n",
       "      <td>59</td>\n",
       "      <td>DINAS A</td>\n",
       "      <td>Juli</td>\n",
       "      <td>6.95183</td>\n",
       "    </tr>\n",
       "    <tr>\n",
       "      <th>2</th>\n",
       "      <td>1003</td>\n",
       "      <td>S2</td>\n",
       "      <td>57</td>\n",
       "      <td>BADAN D</td>\n",
       "      <td>Juli</td>\n",
       "      <td>8.18452</td>\n",
       "    </tr>\n",
       "    <tr>\n",
       "      <th>3</th>\n",
       "      <td>1004</td>\n",
       "      <td>SD</td>\n",
       "      <td>56</td>\n",
       "      <td>DINAS B</td>\n",
       "      <td>Juli</td>\n",
       "      <td>6.55612</td>\n",
       "    </tr>\n",
       "    <tr>\n",
       "      <th>4</th>\n",
       "      <td>1005</td>\n",
       "      <td>D3</td>\n",
       "      <td>54</td>\n",
       "      <td>DINAS B</td>\n",
       "      <td>Juli</td>\n",
       "      <td>6.34694</td>\n",
       "    </tr>\n",
       "  </tbody>\n",
       "</table>\n",
       "</div>"
      ],
      "text/plain": [
       "     ID   TPA  Usia       SK Bulan    Nilai\n",
       "0  1001    S3    61  DINAS B  Juli  7.88436\n",
       "1  1002  SLTA    59  DINAS A  Juli  6.95183\n",
       "2  1003    S2    57  BADAN D  Juli  8.18452\n",
       "3  1004    SD    56  DINAS B  Juli  6.55612\n",
       "4  1005    D3    54  DINAS B  Juli  6.34694"
      ]
     },
     "execution_count": 661,
     "metadata": {},
     "output_type": "execute_result"
    }
   ],
   "source": [
    "data.rename(\n",
    "  columns={\n",
    "    'ID PERSON':'ID',\n",
    "    'Tingkat Pendidikan Akhir' : 'TPA',\n",
    "    'Satuan Kerja' : 'SK'\n",
    "  },\n",
    "  inplace=True\n",
    ")\n",
    "data.head()\n"
   ]
  },
  {
   "cell_type": "code",
   "execution_count": 662,
   "metadata": {},
   "outputs": [
    {
     "data": {
      "text/plain": [
       "[Text(0, 0.5, 'Jumlah'), Text(0.5, 0, 'Tingkat Pendidikan Akhir')]"
      ]
     },
     "execution_count": 662,
     "metadata": {},
     "output_type": "execute_result"
    },
    {
     "data": {
      "image/png": "[encoded data removed]",
      "text/plain": [
       "<Figure size 432x288 with 1 Axes>"
      ]
     },
     "metadata": {
      "needs_background": "light"
     },
     "output_type": "display_data"
    }
   ],
   "source": [
    "import seaborn as sns\n",
    "sns.countplot(data['TPA']).set(xlabel='Tingkat Pendidikan Akhir', ylabel='Jumlah')\n"
   ]
  },
  {
   "cell_type": "code",
   "execution_count": 663,
   "metadata": {},
   "outputs": [],
   "source": [
    "#data = data.groupby(['TPA'])['Nilai'].mean()\n",
    "#data.plot.bar()\n",
    "#plt.xlabel(\"Tingkat Pendidikan Akhir\")\n",
    "#plt.ylabel('Nilai')"
   ]
  },
  {
   "cell_type": "code",
   "execution_count": 664,
   "metadata": {},
   "outputs": [],
   "source": [
    "#data = data.groupby(['SK'])['Nilai'].mean()\n",
    "#data.plot.bar()\n",
    "#plt.xlabel(\"Satuan Kerja\")\n",
    "#plt.ylabel('Nilai')"
   ]
  },
  {
   "cell_type": "code",
   "execution_count": 665,
   "metadata": {},
   "outputs": [
    {
     "data": {
      "text/plain": [
       "Text(0, 0.5, 'Nilai')"
      ]
     },
     "execution_count": 665,
     "metadata": {},
     "output_type": "execute_result"
    },
    {
     "data": {
      "image/png": "[encoded data removed]",
      "text/plain": [
       "<Figure size 432x288 with 1 Axes>"
      ]
     },
     "metadata": {
      "needs_background": "light"
     },
     "output_type": "display_data"
    }
   ],
   "source": [
    "data = data.groupby(['Usia'])['Nilai'].mean()\n",
    "data.plot.bar()\n",
    "plt.xlabel(\"Usia\")\n",
    "plt.ylabel('Nilai')"
   ]
  },
  {
   "cell_type": "code",
   "execution_count": 629,
   "metadata": {},
   "outputs": [
    {
     "data": {
      "text/html": [
       "<div>\n",
       "<style scoped>\n",
       "    .dataframe tbody tr th:only-of-type {\n",
       "        vertical-align: middle;\n",
       "    }\n",
       "\n",
       "    .dataframe tbody tr th {\n",
       "        vertical-align: top;\n",
       "    }\n",
       "\n",
       "    .dataframe thead th {\n",
       "        text-align: right;\n",
       "    }\n",
       "</style>\n",
       "<table border=\"1\" class=\"dataframe\">\n",
       "  <thead>\n",
       "    <tr style=\"text-align: right;\">\n",
       "      <th></th>\n",
       "      <th>ID</th>\n",
       "      <th>TPA</th>\n",
       "      <th>Usia</th>\n",
       "      <th>SK</th>\n",
       "      <th>Bulan</th>\n",
       "      <th>Nilai</th>\n",
       "    </tr>\n",
       "  </thead>\n",
       "  <tbody>\n",
       "    <tr>\n",
       "      <th>0</th>\n",
       "      <td>1001</td>\n",
       "      <td>S3</td>\n",
       "      <td>61</td>\n",
       "      <td>2</td>\n",
       "      <td>Juli</td>\n",
       "      <td>7.88436</td>\n",
       "    </tr>\n",
       "    <tr>\n",
       "      <th>1</th>\n",
       "      <td>1002</td>\n",
       "      <td>SLTA</td>\n",
       "      <td>59</td>\n",
       "      <td>1</td>\n",
       "      <td>Juli</td>\n",
       "      <td>6.95183</td>\n",
       "    </tr>\n",
       "    <tr>\n",
       "      <th>2</th>\n",
       "      <td>1003</td>\n",
       "      <td>S2</td>\n",
       "      <td>57</td>\n",
       "      <td>6</td>\n",
       "      <td>Juli</td>\n",
       "      <td>8.18452</td>\n",
       "    </tr>\n",
       "    <tr>\n",
       "      <th>3</th>\n",
       "      <td>1004</td>\n",
       "      <td>SD</td>\n",
       "      <td>56</td>\n",
       "      <td>2</td>\n",
       "      <td>Juli</td>\n",
       "      <td>6.55612</td>\n",
       "    </tr>\n",
       "    <tr>\n",
       "      <th>4</th>\n",
       "      <td>1005</td>\n",
       "      <td>D3</td>\n",
       "      <td>54</td>\n",
       "      <td>2</td>\n",
       "      <td>Juli</td>\n",
       "      <td>6.34694</td>\n",
       "    </tr>\n",
       "  </tbody>\n",
       "</table>\n",
       "</div>"
      ],
      "text/plain": [
       "     ID   TPA  Usia  SK Bulan    Nilai\n",
       "0  1001    S3    61   2  Juli  7.88436\n",
       "1  1002  SLTA    59   1  Juli  6.95183\n",
       "2  1003    S2    57   6  Juli  8.18452\n",
       "3  1004    SD    56   2  Juli  6.55612\n",
       "4  1005    D3    54   2  Juli  6.34694"
      ]
     },
     "execution_count": 629,
     "metadata": {},
     "output_type": "execute_result"
    }
   ],
   "source": [
    "SK ={'DINAS A':1, 'DINAS B':2, 'DINAS F':3, \n",
    "    'DINAS P':4, 'BADAN B':5, \n",
    "    'BADAN D':6 }\n",
    "data['SK'] = data.SK.map(SK)\n",
    "data.dtypes\n",
    "data.head()"
   ]
  },
  {
   "cell_type": "code",
   "execution_count": null,
   "metadata": {},
   "outputs": [],
   "source": []
  },
  {
   "cell_type": "code",
   "execution_count": 630,
   "metadata": {},
   "outputs": [
    {
     "data": {
      "image/png": "[encoded data removed]",
      "text/plain": [
       "<Figure size 432x288 with 1 Axes>"
      ]
     },
     "metadata": {},
     "output_type": "display_data"
    }
   ],
   "source": [
    "import pandas as pd\n",
    "import matplotlib.pyplot as plt \n",
    "\n",
    "product_data = ['DINAS B','DINAS A','BADAN D','BADAN B','DINAS P','DINAS F']   \n",
    "bug_data = [5,5,5,5,5,5]                \n",
    "\n",
    "plt.pie(bug_data , labels=product_data , autopct='%1.1f%%', shadow=True, startangle=140)\n",
    "plt.xlabel('Jumlah')\n",
    "\n",
    "plt.show()"
   ]
  },
  {
   "cell_type": "code",
   "execution_count": 631,
   "metadata": {},
   "outputs": [
    {
     "data": {
      "text/plain": [
       "ID         int64\n",
       "TPA        int64\n",
       "Usia       int64\n",
       "SK         int64\n",
       "Bulan     object\n",
       "Nilai    float64\n",
       "dtype: object"
      ]
     },
     "execution_count": 631,
     "metadata": {},
     "output_type": "execute_result"
    }
   ],
   "source": [
    "TPA ={'SD':1, 'SLTP':2, 'SLTA':3, \n",
    "    'D3':4, 'D4':5, \n",
    "    'S1':6, 'S2':7, 'S3':8}\n",
    "data['TPA'] = data.TPA.map(TPA)\n",
    "data.dtypes"
   ]
  },
  {
   "cell_type": "code",
   "execution_count": 632,
   "metadata": {},
   "outputs": [
    {
     "data": {
      "text/html": [
       "<div>\n",
       "<style scoped>\n",
       "    .dataframe tbody tr th:only-of-type {\n",
       "        vertical-align: middle;\n",
       "    }\n",
       "\n",
       "    .dataframe tbody tr th {\n",
       "        vertical-align: top;\n",
       "    }\n",
       "\n",
       "    .dataframe thead th {\n",
       "        text-align: right;\n",
       "    }\n",
       "</style>\n",
       "<table border=\"1\" class=\"dataframe\">\n",
       "  <thead>\n",
       "    <tr style=\"text-align: right;\">\n",
       "      <th></th>\n",
       "      <th>ID</th>\n",
       "      <th>TPA</th>\n",
       "      <th>Usia</th>\n",
       "      <th>SK</th>\n",
       "      <th>Nilai</th>\n",
       "    </tr>\n",
       "  </thead>\n",
       "  <tbody>\n",
       "    <tr>\n",
       "      <th>count</th>\n",
       "      <td>30.000000</td>\n",
       "      <td>30.000000</td>\n",
       "      <td>30.000000</td>\n",
       "      <td>30.000000</td>\n",
       "      <td>30.000000</td>\n",
       "    </tr>\n",
       "    <tr>\n",
       "      <th>mean</th>\n",
       "      <td>1015.500000</td>\n",
       "      <td>4.966667</td>\n",
       "      <td>40.233333</td>\n",
       "      <td>3.500000</td>\n",
       "      <td>7.185791</td>\n",
       "    </tr>\n",
       "    <tr>\n",
       "      <th>std</th>\n",
       "      <td>8.803408</td>\n",
       "      <td>1.586219</td>\n",
       "      <td>10.753294</td>\n",
       "      <td>1.737021</td>\n",
       "      <td>0.484566</td>\n",
       "    </tr>\n",
       "    <tr>\n",
       "      <th>min</th>\n",
       "      <td>1001.000000</td>\n",
       "      <td>1.000000</td>\n",
       "      <td>25.000000</td>\n",
       "      <td>1.000000</td>\n",
       "      <td>6.346940</td>\n",
       "    </tr>\n",
       "    <tr>\n",
       "      <th>25%</th>\n",
       "      <td>1008.250000</td>\n",
       "      <td>4.000000</td>\n",
       "      <td>32.500000</td>\n",
       "      <td>2.000000</td>\n",
       "      <td>6.964457</td>\n",
       "    </tr>\n",
       "    <tr>\n",
       "      <th>50%</th>\n",
       "      <td>1015.500000</td>\n",
       "      <td>6.000000</td>\n",
       "      <td>41.000000</td>\n",
       "      <td>3.500000</td>\n",
       "      <td>7.179420</td>\n",
       "    </tr>\n",
       "    <tr>\n",
       "      <th>75%</th>\n",
       "      <td>1022.750000</td>\n",
       "      <td>6.000000</td>\n",
       "      <td>47.000000</td>\n",
       "      <td>5.000000</td>\n",
       "      <td>7.452400</td>\n",
       "    </tr>\n",
       "    <tr>\n",
       "      <th>max</th>\n",
       "      <td>1030.000000</td>\n",
       "      <td>8.000000</td>\n",
       "      <td>61.000000</td>\n",
       "      <td>6.000000</td>\n",
       "      <td>8.403630</td>\n",
       "    </tr>\n",
       "  </tbody>\n",
       "</table>\n",
       "</div>"
      ],
      "text/plain": [
       "                ID        TPA       Usia         SK      Nilai\n",
       "count    30.000000  30.000000  30.000000  30.000000  30.000000\n",
       "mean   1015.500000   4.966667  40.233333   3.500000   7.185791\n",
       "std       8.803408   1.586219  10.753294   1.737021   0.484566\n",
       "min    1001.000000   1.000000  25.000000   1.000000   6.346940\n",
       "25%    1008.250000   4.000000  32.500000   2.000000   6.964457\n",
       "50%    1015.500000   6.000000  41.000000   3.500000   7.179420\n",
       "75%    1022.750000   6.000000  47.000000   5.000000   7.452400\n",
       "max    1030.000000   8.000000  61.000000   6.000000   8.403630"
      ]
     },
     "execution_count": 632,
     "metadata": {},
     "output_type": "execute_result"
    }
   ],
   "source": [
    "data.head()\n",
    "data.describe()"
   ]
  },
  {
   "cell_type": "code",
   "execution_count": 633,
   "metadata": {},
   "outputs": [
    {
     "data": {
      "text/html": [
       "<style  type=\"text/css\" >\n",
       "    #T_ca6bfe28_3533_11ea_be95_3c970e478e39row0_col0 {\n",
       "            background-color:  #b40426;\n",
       "            color:  #f1f1f1;\n",
       "        }    #T_ca6bfe28_3533_11ea_be95_3c970e478e39row0_col1 {\n",
       "            background-color:  #d9dce1;\n",
       "            color:  #000000;\n",
       "        }    #T_ca6bfe28_3533_11ea_be95_3c970e478e39row0_col2 {\n",
       "            background-color:  #3b4cc0;\n",
       "            color:  #f1f1f1;\n",
       "        }    #T_ca6bfe28_3533_11ea_be95_3c970e478e39row0_col3 {\n",
       "            background-color:  #ccd9ed;\n",
       "            color:  #000000;\n",
       "        }    #T_ca6bfe28_3533_11ea_be95_3c970e478e39row0_col4 {\n",
       "            background-color:  #8badfd;\n",
       "            color:  #000000;\n",
       "        }    #T_ca6bfe28_3533_11ea_be95_3c970e478e39row1_col0 {\n",
       "            background-color:  #f7b89c;\n",
       "            color:  #000000;\n",
       "        }    #T_ca6bfe28_3533_11ea_be95_3c970e478e39row1_col1 {\n",
       "            background-color:  #b40426;\n",
       "            color:  #f1f1f1;\n",
       "        }    #T_ca6bfe28_3533_11ea_be95_3c970e478e39row1_col2 {\n",
       "            background-color:  #afcafc;\n",
       "            color:  #000000;\n",
       "        }    #T_ca6bfe28_3533_11ea_be95_3c970e478e39row1_col3 {\n",
       "            background-color:  #c6d6f1;\n",
       "            color:  #000000;\n",
       "        }    #T_ca6bfe28_3533_11ea_be95_3c970e478e39row1_col4 {\n",
       "            background-color:  #edd2c3;\n",
       "            color:  #000000;\n",
       "        }    #T_ca6bfe28_3533_11ea_be95_3c970e478e39row2_col0 {\n",
       "            background-color:  #3b4cc0;\n",
       "            color:  #f1f1f1;\n",
       "        }    #T_ca6bfe28_3533_11ea_be95_3c970e478e39row2_col1 {\n",
       "            background-color:  #3b4cc0;\n",
       "            color:  #f1f1f1;\n",
       "        }    #T_ca6bfe28_3533_11ea_be95_3c970e478e39row2_col2 {\n",
       "            background-color:  #b40426;\n",
       "            color:  #f1f1f1;\n",
       "        }    #T_ca6bfe28_3533_11ea_be95_3c970e478e39row2_col3 {\n",
       "            background-color:  #3b4cc0;\n",
       "            color:  #f1f1f1;\n",
       "        }    #T_ca6bfe28_3533_11ea_be95_3c970e478e39row2_col4 {\n",
       "            background-color:  #3b4cc0;\n",
       "            color:  #f1f1f1;\n",
       "        }    #T_ca6bfe28_3533_11ea_be95_3c970e478e39row3_col0 {\n",
       "            background-color:  #f5c0a7;\n",
       "            color:  #000000;\n",
       "        }    #T_ca6bfe28_3533_11ea_be95_3c970e478e39row3_col1 {\n",
       "            background-color:  #c7d7f0;\n",
       "            color:  #000000;\n",
       "        }    #T_ca6bfe28_3533_11ea_be95_3c970e478e39row3_col2 {\n",
       "            background-color:  #b1cbfc;\n",
       "            color:  #000000;\n",
       "        }    #T_ca6bfe28_3533_11ea_be95_3c970e478e39row3_col3 {\n",
       "            background-color:  #b40426;\n",
       "            color:  #f1f1f1;\n",
       "        }    #T_ca6bfe28_3533_11ea_be95_3c970e478e39row3_col4 {\n",
       "            background-color:  #94b6ff;\n",
       "            color:  #000000;\n",
       "        }    #T_ca6bfe28_3533_11ea_be95_3c970e478e39row4_col0 {\n",
       "            background-color:  #edd2c3;\n",
       "            color:  #000000;\n",
       "        }    #T_ca6bfe28_3533_11ea_be95_3c970e478e39row4_col1 {\n",
       "            background-color:  #f4c5ad;\n",
       "            color:  #000000;\n",
       "        }    #T_ca6bfe28_3533_11ea_be95_3c970e478e39row4_col2 {\n",
       "            background-color:  #cad8ef;\n",
       "            color:  #000000;\n",
       "        }    #T_ca6bfe28_3533_11ea_be95_3c970e478e39row4_col3 {\n",
       "            background-color:  #b2ccfb;\n",
       "            color:  #000000;\n",
       "        }    #T_ca6bfe28_3533_11ea_be95_3c970e478e39row4_col4 {\n",
       "            background-color:  #b40426;\n",
       "            color:  #f1f1f1;\n",
       "        }</style><table id=\"T_ca6bfe28_3533_11ea_be95_3c970e478e39\" ><thead>    <tr>        <th class=\"blank level0\" ></th>        <th class=\"col_heading level0 col0\" >ID</th>        <th class=\"col_heading level0 col1\" >TPA</th>        <th class=\"col_heading level0 col2\" >Usia</th>        <th class=\"col_heading level0 col3\" >SK</th>        <th class=\"col_heading level0 col4\" >Nilai</th>    </tr></thead><tbody>\n",
       "                <tr>\n",
       "                        <th id=\"T_ca6bfe28_3533_11ea_be95_3c970e478e39level0_row0\" class=\"row_heading level0 row0\" >ID</th>\n",
       "                        <td id=\"T_ca6bfe28_3533_11ea_be95_3c970e478e39row0_col0\" class=\"data row0 col0\" >1</td>\n",
       "                        <td id=\"T_ca6bfe28_3533_11ea_be95_3c970e478e39row0_col1\" class=\"data row0 col1\" >0.33707</td>\n",
       "                        <td id=\"T_ca6bfe28_3533_11ea_be95_3c970e478e39row0_col2\" class=\"data row0 col2\" >-0.978945</td>\n",
       "                        <td id=\"T_ca6bfe28_3533_11ea_be95_3c970e478e39row0_col3\" class=\"data row0 col3\" >0.285257</td>\n",
       "                        <td id=\"T_ca6bfe28_3533_11ea_be95_3c970e478e39row0_col4\" class=\"data row0 col4\" >0.146537</td>\n",
       "            </tr>\n",
       "            <tr>\n",
       "                        <th id=\"T_ca6bfe28_3533_11ea_be95_3c970e478e39level0_row1\" class=\"row_heading level0 row1\" >TPA</th>\n",
       "                        <td id=\"T_ca6bfe28_3533_11ea_be95_3c970e478e39row1_col0\" class=\"data row1 col0\" >0.33707</td>\n",
       "                        <td id=\"T_ca6bfe28_3533_11ea_be95_3c970e478e39row1_col1\" class=\"data row1 col1\" >1</td>\n",
       "                        <td id=\"T_ca6bfe28_3533_11ea_be95_3c970e478e39row1_col2\" class=\"data row1 col2\" >-0.29064</td>\n",
       "                        <td id=\"T_ca6bfe28_3533_11ea_be95_3c970e478e39row1_col3\" class=\"data row1 col3\" >0.256559</td>\n",
       "                        <td id=\"T_ca6bfe28_3533_11ea_be95_3c970e478e39row1_col4\" class=\"data row1 col4\" >0.5143</td>\n",
       "            </tr>\n",
       "            <tr>\n",
       "                        <th id=\"T_ca6bfe28_3533_11ea_be95_3c970e478e39level0_row2\" class=\"row_heading level0 row2\" >Usia</th>\n",
       "                        <td id=\"T_ca6bfe28_3533_11ea_be95_3c970e478e39row2_col0\" class=\"data row2 col0\" >-0.978945</td>\n",
       "                        <td id=\"T_ca6bfe28_3533_11ea_be95_3c970e478e39row2_col1\" class=\"data row2 col1\" >-0.29064</td>\n",
       "                        <td id=\"T_ca6bfe28_3533_11ea_be95_3c970e478e39row2_col2\" class=\"data row2 col2\" >1</td>\n",
       "                        <td id=\"T_ca6bfe28_3533_11ea_be95_3c970e478e39row2_col3\" class=\"data row2 col3\" >-0.277838</td>\n",
       "                        <td id=\"T_ca6bfe28_3533_11ea_be95_3c970e478e39row2_col4\" class=\"data row2 col4\" >-0.127943</td>\n",
       "            </tr>\n",
       "            <tr>\n",
       "                        <th id=\"T_ca6bfe28_3533_11ea_be95_3c970e478e39level0_row3\" class=\"row_heading level0 row3\" >SK</th>\n",
       "                        <td id=\"T_ca6bfe28_3533_11ea_be95_3c970e478e39row3_col0\" class=\"data row3 col0\" >0.285257</td>\n",
       "                        <td id=\"T_ca6bfe28_3533_11ea_be95_3c970e478e39row3_col1\" class=\"data row3 col1\" >0.256559</td>\n",
       "                        <td id=\"T_ca6bfe28_3533_11ea_be95_3c970e478e39row3_col2\" class=\"data row3 col2\" >-0.277838</td>\n",
       "                        <td id=\"T_ca6bfe28_3533_11ea_be95_3c970e478e39row3_col3\" class=\"data row3 col3\" >1</td>\n",
       "                        <td id=\"T_ca6bfe28_3533_11ea_be95_3c970e478e39row3_col4\" class=\"data row3 col4\" >0.177729</td>\n",
       "            </tr>\n",
       "            <tr>\n",
       "                        <th id=\"T_ca6bfe28_3533_11ea_be95_3c970e478e39level0_row4\" class=\"row_heading level0 row4\" >Nilai</th>\n",
       "                        <td id=\"T_ca6bfe28_3533_11ea_be95_3c970e478e39row4_col0\" class=\"data row4 col0\" >0.146537</td>\n",
       "                        <td id=\"T_ca6bfe28_3533_11ea_be95_3c970e478e39row4_col1\" class=\"data row4 col1\" >0.5143</td>\n",
       "                        <td id=\"T_ca6bfe28_3533_11ea_be95_3c970e478e39row4_col2\" class=\"data row4 col2\" >-0.127943</td>\n",
       "                        <td id=\"T_ca6bfe28_3533_11ea_be95_3c970e478e39row4_col3\" class=\"data row4 col3\" >0.177729</td>\n",
       "                        <td id=\"T_ca6bfe28_3533_11ea_be95_3c970e478e39row4_col4\" class=\"data row4 col4\" >1</td>\n",
       "            </tr>\n",
       "    </tbody></table>"
      ],
      "text/plain": [
       "<pandas.io.formats.style.Styler at 0x35a2365a58>"
      ]
     },
     "execution_count": 633,
     "metadata": {},
     "output_type": "execute_result"
    }
   ],
   "source": [
    "#untuk mengetahui korelasi antar feature\n",
    "data.corr().style.background_gradient(cmap='coolwarm')"
   ]
  },
  {
   "cell_type": "code",
   "execution_count": 634,
   "metadata": {},
   "outputs": [],
   "source": [
    "#ada korelasi tingkat pendidikan akhir dan nilai kompetensi pegawai"
   ]
  },
  {
   "cell_type": "code",
   "execution_count": 635,
   "metadata": {},
   "outputs": [
    {
     "data": {
      "text/html": [
       "<div>\n",
       "<style scoped>\n",
       "    .dataframe tbody tr th:only-of-type {\n",
       "        vertical-align: middle;\n",
       "    }\n",
       "\n",
       "    .dataframe tbody tr th {\n",
       "        vertical-align: top;\n",
       "    }\n",
       "\n",
       "    .dataframe thead th {\n",
       "        text-align: right;\n",
       "    }\n",
       "</style>\n",
       "<table border=\"1\" class=\"dataframe\">\n",
       "  <thead>\n",
       "    <tr style=\"text-align: right;\">\n",
       "      <th></th>\n",
       "      <th>ID</th>\n",
       "      <th>TPA</th>\n",
       "      <th>Usia</th>\n",
       "      <th>SK</th>\n",
       "      <th>Nilai</th>\n",
       "    </tr>\n",
       "  </thead>\n",
       "  <tbody>\n",
       "    <tr>\n",
       "      <th>count</th>\n",
       "      <td>30.000000</td>\n",
       "      <td>30.000000</td>\n",
       "      <td>30.000000</td>\n",
       "      <td>30.000000</td>\n",
       "      <td>30.000000</td>\n",
       "    </tr>\n",
       "    <tr>\n",
       "      <th>mean</th>\n",
       "      <td>1015.500000</td>\n",
       "      <td>4.966667</td>\n",
       "      <td>40.233333</td>\n",
       "      <td>3.500000</td>\n",
       "      <td>7.185791</td>\n",
       "    </tr>\n",
       "    <tr>\n",
       "      <th>std</th>\n",
       "      <td>8.803408</td>\n",
       "      <td>1.586219</td>\n",
       "      <td>10.753294</td>\n",
       "      <td>1.737021</td>\n",
       "      <td>0.484566</td>\n",
       "    </tr>\n",
       "    <tr>\n",
       "      <th>min</th>\n",
       "      <td>1001.000000</td>\n",
       "      <td>1.000000</td>\n",
       "      <td>25.000000</td>\n",
       "      <td>1.000000</td>\n",
       "      <td>6.346940</td>\n",
       "    </tr>\n",
       "    <tr>\n",
       "      <th>25%</th>\n",
       "      <td>1008.250000</td>\n",
       "      <td>4.000000</td>\n",
       "      <td>32.500000</td>\n",
       "      <td>2.000000</td>\n",
       "      <td>6.964457</td>\n",
       "    </tr>\n",
       "    <tr>\n",
       "      <th>50%</th>\n",
       "      <td>1015.500000</td>\n",
       "      <td>6.000000</td>\n",
       "      <td>41.000000</td>\n",
       "      <td>3.500000</td>\n",
       "      <td>7.179420</td>\n",
       "    </tr>\n",
       "    <tr>\n",
       "      <th>75%</th>\n",
       "      <td>1022.750000</td>\n",
       "      <td>6.000000</td>\n",
       "      <td>47.000000</td>\n",
       "      <td>5.000000</td>\n",
       "      <td>7.452400</td>\n",
       "    </tr>\n",
       "    <tr>\n",
       "      <th>max</th>\n",
       "      <td>1030.000000</td>\n",
       "      <td>8.000000</td>\n",
       "      <td>61.000000</td>\n",
       "      <td>6.000000</td>\n",
       "      <td>8.403630</td>\n",
       "    </tr>\n",
       "  </tbody>\n",
       "</table>\n",
       "</div>"
      ],
      "text/plain": [
       "                ID        TPA       Usia         SK      Nilai\n",
       "count    30.000000  30.000000  30.000000  30.000000  30.000000\n",
       "mean   1015.500000   4.966667  40.233333   3.500000   7.185791\n",
       "std       8.803408   1.586219  10.753294   1.737021   0.484566\n",
       "min    1001.000000   1.000000  25.000000   1.000000   6.346940\n",
       "25%    1008.250000   4.000000  32.500000   2.000000   6.964457\n",
       "50%    1015.500000   6.000000  41.000000   3.500000   7.179420\n",
       "75%    1022.750000   6.000000  47.000000   5.000000   7.452400\n",
       "max    1030.000000   8.000000  61.000000   6.000000   8.403630"
      ]
     },
     "execution_count": 635,
     "metadata": {},
     "output_type": "execute_result"
    }
   ],
   "source": [
    "data.describe()"
   ]
  },
  {
   "cell_type": "markdown",
   "metadata": {},
   "source": [
    "# EDA/ Exploratory Data Analysis and Visualization"
   ]
  },
  {
   "cell_type": "code",
   "execution_count": 636,
   "metadata": {},
   "outputs": [
    {
     "data": {
      "text/plain": [
       "6    14\n",
       "4     5\n",
       "3     4\n",
       "5     3\n",
       "8     1\n",
       "7     1\n",
       "2     1\n",
       "1     1\n",
       "Name: TPA, dtype: int64"
      ]
     },
     "execution_count": 636,
     "metadata": {},
     "output_type": "execute_result"
    },
    {
     "data": {
      "image/png": "[encoded data removed]",
      "text/plain": [
       "<Figure size 432x288 with 1 Axes>"
      ]
     },
     "metadata": {
      "needs_background": "light"
     },
     "output_type": "display_data"
    }
   ],
   "source": [
    "import seaborn as sns\n",
    "sns.countplot(data['TPA']).set(xlabel='Tingkat Pendidikan Akhir', ylabel='Jumlah')\n",
    "data['TPA'].value_counts()"
   ]
  },
  {
   "cell_type": "code",
   "execution_count": 637,
   "metadata": {},
   "outputs": [
    {
     "data": {
      "text/plain": [
       "25    5\n",
       "42    3\n",
       "47    3\n",
       "43    2\n",
       "39    2\n",
       "41    2\n",
       "34    1\n",
       "35    1\n",
       "38    1\n",
       "40    1\n",
       "61    1\n",
       "28    1\n",
       "48    1\n",
       "27    1\n",
       "54    1\n",
       "56    1\n",
       "57    1\n",
       "59    1\n",
       "32    1\n",
       "Name: Usia, dtype: int64"
      ]
     },
     "execution_count": 637,
     "metadata": {},
     "output_type": "execute_result"
    },
    {
     "data": {
      "image/png": "[encoded data removed]",
      "text/plain": [
       "<Figure size 432x288 with 1 Axes>"
      ]
     },
     "metadata": {
      "needs_background": "light"
     },
     "output_type": "display_data"
    }
   ],
   "source": [
    "import seaborn as sns\n",
    "sns.countplot(data['Usia']).set(xlabel='Usia', ylabel='Jumlah')\n",
    "data['Usia'].value_counts()"
   ]
  },
  {
   "cell_type": "code",
   "execution_count": 638,
   "metadata": {},
   "outputs": [
    {
     "data": {
      "text/plain": [
       "[Text(0, 0.5, 'Jumlah'), Text(0.5, 0, 'Nilai')]"
      ]
     },
     "execution_count": 638,
     "metadata": {},
     "output_type": "execute_result"
    },
    {
     "data": {
      "image/png": "[encoded data removed]",
      "text/plain": [
       "<Figure size 432x288 with 1 Axes>"
      ]
     },
     "metadata": {
      "needs_background": "light"
     },
     "output_type": "display_data"
    }
   ],
   "source": [
    "data['Nilai'].hist(grid=False).set(xlabel='Nilai', ylabel='Jumlah')"
   ]
  },
  {
   "cell_type": "code",
   "execution_count": 639,
   "metadata": {},
   "outputs": [
    {
     "data": {
      "text/plain": [
       "[Text(0, 0.5, 'Nilai'), Text(0.5, 0, 'Usia')]"
      ]
     },
     "execution_count": 639,
     "metadata": {},
     "output_type": "execute_result"
    },
    {
     "data": {
      "image/png": "[encoded data removed]",
      "text/plain": [
       "<Figure size 432x288 with 1 Axes>"
      ]
     },
     "metadata": {
      "needs_background": "light"
     },
     "output_type": "display_data"
    }
   ],
   "source": [
    "sns.scatterplot(x=data['Usia'],y= data['Nilai']).set(xlabel='Usia', ylabel='Nilai')"
   ]
  },
  {
   "cell_type": "code",
   "execution_count": 640,
   "metadata": {},
   "outputs": [
    {
     "data": {
      "image/png": "[encoded data removed]",
      "text/plain": [
       "<Figure size 432x288 with 1 Axes>"
      ]
     },
     "metadata": {
      "needs_background": "light"
     },
     "output_type": "display_data"
    }
   ],
   "source": [
    "# libraries\n",
    "import numpy as np\n",
    "import matplotlib.pyplot as plt\n",
    "from matplotlib import rc\n",
    "import pandas as pd\n",
    " \n",
    "# y-axis in bold\n",
    "rc('font', weight='bold')\n",
    " \n",
    "# Values of each group\n",
    "SD = (0, 1, 0, 0, 0, 0)\n",
    "SLTP = (0, 0, 1, 0, 0, 0)\n",
    "SLTA = (1, 1, 0, 1, 1, 0)\n",
    "D3 = (1, 2, 0, 2, 0, 0)\n",
    "D4 = (0, 0, 1, 0, 1, 1)\n",
    "S1 = (3, 0, 3, 2, 3, 3)\n",
    "S2 = (0, 0, 0, 0, 0, 1)\n",
    "S3 = (0, 1, 0, 0, 0, 0)\n",
    "\n",
    "# Heights of bars1 + bars2\n",
    "bars2 = np.add(SD, SLTP).tolist()\n",
    "bars3 = np.add(bars2, SLTA).tolist()\n",
    "bars4 = np.add(bars3, D3).tolist()\n",
    "bars5 = np.add(bars4, D4).tolist()\n",
    "bars6 = np.add(bars5, S1).tolist()\n",
    "bars7 = np.add(bars6, S2).tolist()\n",
    "bars8 = np.add(bars7, S3).tolist()\n",
    " \n",
    "# The position of the bars on the x-axis\n",
    "r = [0,1,2,3,4,5]\n",
    " \n",
    "# Names of group and bar width\n",
    "names = ['DINAS A', 'DINAS B', 'DINAS F', 'DINAS P', 'BADAN B', 'BADAN D'] \n",
    "barWidth = 1\n",
    " \n",
    "# Create brown bars\n",
    "plt.bar(r, SD, color='#7f6d5f', edgecolor='white', width=barWidth)\n",
    "# Create green bars (middle), on top of the firs ones\n",
    "plt.bar(r, SLTP, bottom=SD, color='#557f2d', edgecolor='white', width=barWidth)\n",
    "# Create green bars (top)\n",
    "plt.bar(r, SLTA, bottom=bars2, color='#2d7f5e', edgecolor='white', width=barWidth)\n",
    "plt.bar(r, D3, bottom=bars3, color='#873600', edgecolor='white', width=barWidth)\n",
    "plt.bar(r, D4, bottom=bars4, color='#f4d03f', edgecolor='white', width=barWidth)\n",
    "plt.bar(r, S1, bottom=bars5, color='#884ea0', edgecolor='white', width=barWidth)\n",
    "plt.bar(r, S2, bottom=bars6, color='#fadbd8', edgecolor='white', width=barWidth)\n",
    "plt.bar(r, S3, bottom=bars7, color='#f5cba7', edgecolor='white', width=barWidth)\n",
    "plt.legend (('SD', 'SLTP', 'SLTA', 'D3','D4','S1','S2','S3'))\n",
    "\n",
    "# Custom X axis\n",
    "plt.xticks(r, names, fontweight='bold')\n",
    "plt.xlabel(\"Satuan Kerja\")\n",
    "plt.ylabel('Jumlah Pegawai')\n",
    " \n",
    "# Show graphic\n",
    "plt.show()"
   ]
  },
  {
   "cell_type": "code",
   "execution_count": 641,
   "metadata": {
    "scrolled": true
   },
   "outputs": [
    {
     "data": {
      "image/png": "[encoded data removed]",
      "text/plain": [
       "<Figure size 432x288 with 1 Axes>"
      ]
     },
     "metadata": {
      "needs_background": "light"
     },
     "output_type": "display_data"
    }
   ],
   "source": [
    "# libraries\n",
    "import numpy as np\n",
    "import matplotlib.pyplot as plt\n",
    " \n",
    "# set width of bar\n",
    "barWidth = 0.25\n",
    " \n",
    "# set height of bar\n",
    "bars1 = [12, 30, 1, 8, 22]\n",
    "bars2 = [28, 6, 16, 5, 10]\n",
    "bars3 = [29, 3, 24, 25, 17]\n",
    " \n",
    "# Set position of bar on X axis\n",
    "r1 = np.arange(len(bars1))\n",
    "r2 = [x + barWidth for x in r1]\n",
    "r3 = [x + barWidth for x in r2]\n",
    " \n",
    "# Make the plot\n",
    "plt.bar(r1, bars1, color='#7f6d5f', width=barWidth, edgecolor='white', label='var1')\n",
    "plt.bar(r2, bars2, color='#557f2d', width=barWidth, edgecolor='white', label='var2')\n",
    "plt.bar(r3, bars3, color='#2d7f5e', width=barWidth, edgecolor='white', label='var3')\n",
    " \n",
    "# Add xticks on the middle of the group bars\n",
    "plt.xlabel('group', fontweight='bold')\n",
    "plt.xticks([r + barWidth for r in range(len(bars1))], ['DINAS A', 'DINAS B', 'DINAS F', 'DINAS P', 'BADAN B', 'BADAN D'] )\n",
    " \n",
    "# Create legend & Show graphic\n",
    "plt.legend()\n",
    "plt.show()"
   ]
  },
  {
   "cell_type": "code",
   "execution_count": 642,
   "metadata": {},
   "outputs": [
    {
     "data": {
      "text/html": [
       "<div>\n",
       "<style scoped>\n",
       "    .dataframe tbody tr th:only-of-type {\n",
       "        vertical-align: middle;\n",
       "    }\n",
       "\n",
       "    .dataframe tbody tr th {\n",
       "        vertical-align: top;\n",
       "    }\n",
       "\n",
       "    .dataframe thead th {\n",
       "        text-align: right;\n",
       "    }\n",
       "</style>\n",
       "<table border=\"1\" class=\"dataframe\">\n",
       "  <thead>\n",
       "    <tr style=\"text-align: right;\">\n",
       "      <th></th>\n",
       "      <th>ID</th>\n",
       "      <th>TPA</th>\n",
       "      <th>Usia</th>\n",
       "      <th>SK</th>\n",
       "      <th>Bulan</th>\n",
       "      <th>Nilai</th>\n",
       "    </tr>\n",
       "  </thead>\n",
       "  <tbody>\n",
       "    <tr>\n",
       "      <th>0</th>\n",
       "      <td>1001</td>\n",
       "      <td>8</td>\n",
       "      <td>61</td>\n",
       "      <td>2</td>\n",
       "      <td>Juli</td>\n",
       "      <td>7.88436</td>\n",
       "    </tr>\n",
       "    <tr>\n",
       "      <th>1</th>\n",
       "      <td>1002</td>\n",
       "      <td>3</td>\n",
       "      <td>59</td>\n",
       "      <td>1</td>\n",
       "      <td>Juli</td>\n",
       "      <td>6.95183</td>\n",
       "    </tr>\n",
       "    <tr>\n",
       "      <th>2</th>\n",
       "      <td>1003</td>\n",
       "      <td>7</td>\n",
       "      <td>57</td>\n",
       "      <td>6</td>\n",
       "      <td>Juli</td>\n",
       "      <td>8.18452</td>\n",
       "    </tr>\n",
       "    <tr>\n",
       "      <th>3</th>\n",
       "      <td>1004</td>\n",
       "      <td>1</td>\n",
       "      <td>56</td>\n",
       "      <td>2</td>\n",
       "      <td>Juli</td>\n",
       "      <td>6.55612</td>\n",
       "    </tr>\n",
       "    <tr>\n",
       "      <th>4</th>\n",
       "      <td>1005</td>\n",
       "      <td>4</td>\n",
       "      <td>54</td>\n",
       "      <td>2</td>\n",
       "      <td>Juli</td>\n",
       "      <td>6.34694</td>\n",
       "    </tr>\n",
       "  </tbody>\n",
       "</table>\n",
       "</div>"
      ],
      "text/plain": [
       "     ID  TPA  Usia  SK Bulan    Nilai\n",
       "0  1001    8    61   2  Juli  7.88436\n",
       "1  1002    3    59   1  Juli  6.95183\n",
       "2  1003    7    57   6  Juli  8.18452\n",
       "3  1004    1    56   2  Juli  6.55612\n",
       "4  1005    4    54   2  Juli  6.34694"
      ]
     },
     "execution_count": 642,
     "metadata": {},
     "output_type": "execute_result"
    }
   ],
   "source": [
    "summary = (\n",
    "    data.groupby('TPA')['Nilai'].mean()\n",
    "    )\n",
    "data.head()"
   ]
  },
  {
   "cell_type": "code",
   "execution_count": 644,
   "metadata": {},
   "outputs": [
    {
     "data": {
      "image/png": "[encoded data removed]",
      "text/plain": [
       "<Figure size 1200x600 with 1 Axes>"
      ]
     },
     "metadata": {
      "needs_background": "light"
     },
     "output_type": "display_data"
    }
   ],
   "source": [
    "import matplotlib.pyplot as plt\n",
    "width_in_inches = 20\n",
    "height_in_inches = 10\n",
    "dots_per_inch = 60\n",
    "\n",
    "plt.figure(\n",
    "    figsize=(width_in_inches, height_in_inches),\n",
    "    dpi=dots_per_inch)\n",
    "x = ['1001','1002','1003','1004','1005','1006','1007','1008',\n",
    "     '1009','1010','1011','1012','1013','1014','1015','1016',\n",
    "     '1017','1018','1019','1020','1021','1022','1023','1024',\n",
    "     '1025','1026','1027','1028','1029','1030']\n",
    "y = data['Nilai']\n",
    "\n",
    "plt.xlabel(\"ID Person\")\n",
    "plt.ylabel('Nilai')\n",
    "\n",
    "plt.bar(x, y,color=['black','black','green','red', 'red',\n",
    "                    'black','red','black','black', 'black',\n",
    "                    'black','red','black','black', 'black',\n",
    "                    'black','black','black','red','black',\n",
    "                    'black','black','black','black','black',\n",
    "                    'black','black','green','black','black'])\n",
    "plt.tight_layout()\n",
    "\n"
   ]
  },
  {
   "cell_type": "code",
   "execution_count": null,
   "metadata": {},
   "outputs": [],
   "source": []
  },
  {
   "cell_type": "code",
   "execution_count": 168,
   "metadata": {},
   "outputs": [
    {
     "data": {
      "image/png": "[encoded data removed]",
      "text/plain": [
       "<Figure size 432x288 with 1 Axes>"
      ]
     },
     "metadata": {
      "needs_background": "light"
     },
     "output_type": "display_data"
    }
   ],
   "source": [
    "import numpy as np\n",
    "import matplotlib.pyplot as plt\n",
    "\n",
    "# Fixing random state for reproducibility\n",
    "np.random.seed(19680801)\n",
    "\n",
    "\n",
    "N = 50\n",
    "x = np.random.rand(N)\n",
    "y = np.random.rand(N)\n",
    "colors = np.random.rand(N)\n",
    "area = (30 * np.random.rand(N))**2  # 0 to 15 point radii\n",
    "\n",
    "plt.scatter(x, y, s=area, c=colors, alpha=0.5)\n",
    "plt.show()\n"
   ]
  },
  {
   "cell_type": "code",
   "execution_count": 120,
   "metadata": {},
   "outputs": [
    {
     "data": {
      "text/plain": [
       "<matplotlib.axes._subplots.AxesSubplot at 0x359cfabf98>"
      ]
     },
     "execution_count": 120,
     "metadata": {},
     "output_type": "execute_result"
    },
    {
     "data": {
      "image/png": "[encoded data removed]",
      "text/plain": [
       "<Figure size 432x288 with 2 Axes>"
      ]
     },
     "metadata": {
      "needs_background": "light"
     },
     "output_type": "display_data"
    }
   ],
   "source": [
    "import seaborn as sns\n",
    "corr = data.corr()\n",
    "sns.heatmap(corr,annot=True, fmt='.2f')"
   ]
  },
  {
   "cell_type": "code",
   "execution_count": null,
   "metadata": {},
   "outputs": [],
   "source": []
  }
 ],
 "metadata": {
  "kernelspec": {
   "display_name": "Python 3",
   "language": "python",
   "name": "python3"
  },
  "language_info": {
   "codemirror_mode": {
    "name": "ipython",
    "version": 3
   },
   "file_extension": ".py",
   "mimetype": "text/x-python",
   "name": "python",
   "nbconvert_exporter": "python",
   "pygments_lexer": "ipython3",
   "version": "3.7.3"
  }
 },
 "nbformat": 4,
 "nbformat_minor": 2
}
